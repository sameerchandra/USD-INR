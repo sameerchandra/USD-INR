{
 "cells": [
  {
   "cell_type": "markdown",
   "metadata": {
    "nbpresent": {
     "id": "01ac3bbb-1083-4fd8-b71a-9ceb84cd8a04"
    }
   },
   "source": [
    "# Step 1 - Data Analysis"
   ]
  },
  {
   "cell_type": "markdown",
   "metadata": {
    "nbpresent": {
     "id": "b3adf413-e69e-4949-a40c-4beaf7038163"
    }
   },
   "source": [
    "## Step 1.1 - Importing the Libraries"
   ]
  },
  {
   "cell_type": "code",
   "execution_count": 1,
   "metadata": {
    "nbpresent": {
     "id": "98d85c03-6bcc-4710-8a80-004a045d7ea9"
    }
   },
   "outputs": [
    {
     "name": "stderr",
     "output_type": "stream",
     "text": [
      "Using TensorFlow backend.\n"
     ]
    }
   ],
   "source": [
    "from pandas import read_csv\n",
    "from pandas import datetime\n",
    "from pandas import concat\n",
    "from pandas import DataFrame\n",
    "from matplotlib import pyplot\n",
    "from sklearn import preprocessing\n",
    "from sklearn.preprocessing import MinMaxScaler\n",
    "from sklearn.metrics import mean_squared_error\n",
    "from keras.models import Sequential\n",
    "from keras.layers import Dense\n",
    "from keras.layers import LSTM\n",
    "from numpy import concatenate\n",
    "from math import sqrt\n",
    "from keras import regularizers\n",
    "import pandas as pd\n",
    "from keras.utils.vis_utils import plot_model\n",
    "from pandas.tools.plotting import lag_plot\n",
    "from pandas import Series\n",
    "from pandas.tools.plotting import autocorrelation_plot\n",
    "import numpy as np\n",
    "import pydot\n",
    "import graphviz"
   ]
  },
  {
   "cell_type": "markdown",
   "metadata": {
    "nbpresent": {
     "id": "57fd29b3-e590-471c-8545-122c0e76d135"
    }
   },
   "source": [
    "## Step 1.2 - Load the Dataset"
   ]
  },
  {
   "cell_type": "code",
   "execution_count": 2,
   "metadata": {
    "nbpresent": {
     "id": "44e799fd-9ca4-4bf3-8467-5a0c7ba1abf1"
    }
   },
   "outputs": [
    {
     "data": {
      "image/png": "[encoded data removed]",
      "text/plain": [
       "<matplotlib.figure.Figure at 0x2b751096ac8>"
      ]
     },
     "metadata": {},
     "output_type": "display_data"
    }
   ],
   "source": [
    "def parser(x):\n",
    "    return datetime.strptime(x,'%m-%d-%Y')\n",
    "dataset = read_csv('dataset.csv',header=0,parse_dates=[0],date_parser=parser)\n",
    "series = Series.from_csv('dataset.csv',header=0)\n",
    "autocorrelation_plot(series)\n",
    "pyplot.show()"
   ]
  },
  {
   "cell_type": "code",
   "execution_count": 3,
   "metadata": {
    "nbpresent": {
     "id": "d01e3a89-d631-40b2-82dd-38c4a51847ee"
    }
   },
   "outputs": [
    {
     "name": "stdout",
     "output_type": "stream",
     "text": [
      "        Date  USD/INR  BSE Sensex  Gold Price\n",
      "0 2018-01-19    63.83    35511.58      1333.1\n",
      "1 2018-01-18    63.87    35260.29      1327.2\n",
      "2 2018-01-17    63.89    35081.82      1339.2\n",
      "3 2018-01-16    64.02    34771.05      1337.1\n",
      "4 2018-01-15    63.52    34843.51      1341.8\n"
     ]
    }
   ],
   "source": [
    "print(dataset.head())"
   ]
  },
  {
   "cell_type": "code",
   "execution_count": 4,
   "metadata": {},
   "outputs": [
    {
     "data": {
      "text/html": [
       "<div>\n",
       "<table border=\"1\" class=\"dataframe\">\n",
       "  <thead>\n",
       "    <tr style=\"text-align: right;\">\n",
       "      <th></th>\n",
       "      <th>USD/INR</th>\n",
       "      <th>BSE Sensex</th>\n",
       "      <th>Gold Price</th>\n",
       "    </tr>\n",
       "  </thead>\n",
       "  <tbody>\n",
       "    <tr>\n",
       "      <th>count</th>\n",
       "      <td>1712.000000</td>\n",
       "      <td>1712.000000</td>\n",
       "      <td>1712.000000</td>\n",
       "    </tr>\n",
       "    <tr>\n",
       "      <th>mean</th>\n",
       "      <td>60.557062</td>\n",
       "      <td>23674.218954</td>\n",
       "      <td>1359.342710</td>\n",
       "    </tr>\n",
       "    <tr>\n",
       "      <th>std</th>\n",
       "      <td>6.052800</td>\n",
       "      <td>5131.638246</td>\n",
       "      <td>200.241992</td>\n",
       "    </tr>\n",
       "    <tr>\n",
       "      <th>min</th>\n",
       "      <td>44.070000</td>\n",
       "      <td>15175.080000</td>\n",
       "      <td>1050.800000</td>\n",
       "    </tr>\n",
       "    <tr>\n",
       "      <th>25%</th>\n",
       "      <td>55.350000</td>\n",
       "      <td>18762.852500</td>\n",
       "      <td>1222.450000</td>\n",
       "    </tr>\n",
       "    <tr>\n",
       "      <th>50%</th>\n",
       "      <td>62.145000</td>\n",
       "      <td>24783.465000</td>\n",
       "      <td>1287.300000</td>\n",
       "    </tr>\n",
       "    <tr>\n",
       "      <th>75%</th>\n",
       "      <td>65.150000</td>\n",
       "      <td>27827.757500</td>\n",
       "      <td>1563.025000</td>\n",
       "    </tr>\n",
       "    <tr>\n",
       "      <th>max</th>\n",
       "      <td>68.810000</td>\n",
       "      <td>35511.580000</td>\n",
       "      <td>1888.700000</td>\n",
       "    </tr>\n",
       "  </tbody>\n",
       "</table>\n",
       "</div>"
      ],
      "text/plain": [
       "           USD/INR    BSE Sensex   Gold Price\n",
       "count  1712.000000   1712.000000  1712.000000\n",
       "mean     60.557062  23674.218954  1359.342710\n",
       "std       6.052800   5131.638246   200.241992\n",
       "min      44.070000  15175.080000  1050.800000\n",
       "25%      55.350000  18762.852500  1222.450000\n",
       "50%      62.145000  24783.465000  1287.300000\n",
       "75%      65.150000  27827.757500  1563.025000\n",
       "max      68.810000  35511.580000  1888.700000"
      ]
     },
     "execution_count": 4,
     "metadata": {},
     "output_type": "execute_result"
    }
   ],
   "source": [
    "dataset.describe()"
   ]
  },
  {
   "cell_type": "code",
   "execution_count": 5,
   "metadata": {},
   "outputs": [
    {
     "data": {
      "text/plain": [
       "(1712, 4)"
      ]
     },
     "execution_count": 5,
     "metadata": {},
     "output_type": "execute_result"
    }
   ],
   "source": [
    "dataset.shape"
   ]
  },
  {
   "cell_type": "markdown",
   "metadata": {},
   "source": [
    "## Step 1.3 -  Plot a graph to show the trend in the exchange rates"
   ]
  },
  {
   "cell_type": "code",
   "execution_count": 6,
   "metadata": {
    "nbpresent": {
     "id": "e2ee75b1-4c9b-4864-af10-f398962f1a91"
    }
   },
   "outputs": [
    {
     "data": {
      "image/png": "[encoded data removed]",
      "text/plain": [
       "<matplotlib.figure.Figure at 0x2b751171dd8>"
      ]
     },
     "metadata": {},
     "output_type": "display_data"
    }
   ],
   "source": [
    "dataset.plot(y='USD/INR',x='Date')\n",
    "pyplot.show()"
   ]
  },
  {
   "cell_type": "code",
   "execution_count": null,
   "metadata": {},
   "outputs": [],
   "source": []
  },
  {
   "cell_type": "code",
   "execution_count": null,
   "metadata": {},
   "outputs": [],
   "source": []
  },
  {
   "cell_type": "code",
   "execution_count": 7,
   "metadata": {
    "nbpresent": {
     "id": "2264b8d9-8cd2-4ed4-8571-0ab8241c8ebd"
    }
   },
   "outputs": [],
   "source": [
    "# convert series to supervised learning\n",
    "def series_to_supervised(data, n_in=1, n_out=1, dropnan=True):\n",
    "    n_vars = 1 if type(data) is list else data.shape[1]\n",
    "    df = DataFrame(data)\n",
    "    cols, names = list(), list()\n",
    "    # input sequence (t-n, ... t-1)\n",
    "    for i in range(n_in, 0, -1):\n",
    "        cols.append(df.shift(i))\n",
    "        names += [('var%d(t-%d)' % (j+1, i)) for j in range(n_vars)]\n",
    "    # forecast sequence (t, t+1, ... t+n)\n",
    "    for i in range(0, n_out):\n",
    "        cols.append(df.shift(-i))\n",
    "        if i == 0:\n",
    "            names += [('var%d(t)' % (j+1)) for j in range(n_vars)]\n",
    "        else:\n",
    "            names += [('var%d(t+%d)' % (j+1, i)) for j in range(n_vars)]\n",
    "    # put it all together\n",
    "    agg = concat(cols, axis=1)\n",
    "    agg.columns = names\n",
    "    # drop rows with NaN values\n",
    "    if dropnan:\n",
    "        agg.dropna(inplace=True)\n",
    "    return agg"
   ]
  },
  {
   "cell_type": "code",
   "execution_count": 8,
   "metadata": {
    "nbpresent": {
     "id": "962043b9-36d6-4c31-a7e7-ce36d9a69cb2"
    }
   },
   "outputs": [],
   "source": [
    "# load dataset\n",
    "dataset = read_csv('dataset.csv', header=0, index_col=0)\n",
    "values = dataset.values\n",
    "values = values.astype('float32')\n",
    "scaler = MinMaxScaler(feature_range=(0, 1))\n",
    "scaled = scaler.fit_transform(values)\n",
    "reframed = series_to_supervised(scaled, 1, 1)\n",
    "reframed.drop(reframed.columns[[4,5]],axis=1,inplace=True)"
   ]
  },
  {
   "cell_type": "code",
   "execution_count": 9,
   "metadata": {
    "nbpresent": {
     "id": "1c2921fc-1361-4ca1-ab28-8f75128837c2"
    }
   },
   "outputs": [
    {
     "name": "stdout",
     "output_type": "stream",
     "text": [
      "   var1(t-1)  var2(t-1)  var3(t-1)   var1(t)\n",
      "1   0.798707   1.000000   0.336914  0.800323\n",
      "2   0.800323   0.987643   0.329872  0.801132\n",
      "3   0.801132   0.978868   0.344194  0.806386\n",
      "4   0.806386   0.963586   0.341687  0.786176\n",
      "5   0.786176   0.967149   0.347297  0.789814\n"
     ]
    }
   ],
   "source": [
    "print(reframed.head())"
   ]
  },
  {
   "cell_type": "code",
   "execution_count": 10,
   "metadata": {
    "nbpresent": {
     "id": "0aaff1c2-2b17-41bd-a965-a8f0d2479c20"
    }
   },
   "outputs": [
    {
     "name": "stdout",
     "output_type": "stream",
     "text": [
      "(1434, 1, 3) (1434,) (277, 1, 3) (277,)\n"
     ]
    }
   ],
   "source": [
    "values = reframed.values\n",
    "n_test = 277\n",
    "train = values[n_test:,:]\n",
    "test = values[:n_test,:]\n",
    "train_X, train_y = train[:, :-1], train[:, -1]\n",
    "test_X, test_y = test[:, :-1], test[:, -1]\n",
    "train_X = train_X.reshape((train_X.shape[0], 1, train_X.shape[1]))\n",
    "test_X = test_X.reshape((test_X.shape[0], 1, test_X.shape[1]))\n",
    "print(train_X.shape, train_y.shape, test_X.shape, test_y.shape)"
   ]
  },
  {
   "cell_type": "code",
   "execution_count": 11,
   "metadata": {},
   "outputs": [],
   "source": [
    "model = Sequential()\n",
    "model.add(LSTM(500, input_shape=(train_X.shape[1], train_X.shape[2]),kernel_regularizer=regularizers.l1(0.01)))\n",
    "model.add(Dense(1))\n",
    "plot_model(model, to_file='model.png',show_shapes=True)\n",
    "model.compile(loss='mae', optimizer='adam',metrics=['mse'])"
   ]
  },
  {
   "cell_type": "code",
   "execution_count": 12,
   "metadata": {},
   "outputs": [
    {
     "name": "stdout",
     "output_type": "stream",
     "text": [
      "Train on 1434 samples, validate on 277 samples\n",
      "Epoch 1/100\n",
      "2s - loss: 1.8883 - mean_squared_error: 0.3939 - val_loss: 1.5826 - val_mean_squared_error: 0.3998\n",
      "Epoch 2/100\n",
      "0s - loss: 1.1138 - mean_squared_error: 0.2083 - val_loss: 0.8907 - val_mean_squared_error: 0.1783\n",
      "Epoch 3/100\n",
      "0s - loss: 0.5980 - mean_squared_error: 0.0926 - val_loss: 0.4518 - val_mean_squared_error: 0.0628\n",
      "Epoch 4/100\n",
      "0s - loss: 0.3658 - mean_squared_error: 0.0511 - val_loss: 0.2784 - val_mean_squared_error: 0.0213\n",
      "Epoch 5/100\n",
      "0s - loss: 0.2869 - mean_squared_error: 0.0399 - val_loss: 0.2248 - val_mean_squared_error: 0.0152\n",
      "Epoch 6/100\n",
      "0s - loss: 0.2573 - mean_squared_error: 0.0374 - val_loss: 0.2305 - val_mean_squared_error: 0.0208\n",
      "Epoch 7/100\n",
      "0s - loss: 0.2532 - mean_squared_error: 0.0399 - val_loss: 0.2266 - val_mean_squared_error: 0.0223\n",
      "Epoch 8/100\n",
      "0s - loss: 0.2498 - mean_squared_error: 0.0417 - val_loss: 0.2187 - val_mean_squared_error: 0.0213\n",
      "Epoch 9/100\n",
      "0s - loss: 0.2456 - mean_squared_error: 0.0423 - val_loss: 0.2161 - val_mean_squared_error: 0.0214\n",
      "Epoch 10/100\n",
      "0s - loss: 0.2433 - mean_squared_error: 0.0425 - val_loss: 0.2146 - val_mean_squared_error: 0.0219\n",
      "Epoch 11/100\n",
      "0s - loss: 0.2413 - mean_squared_error: 0.0432 - val_loss: 0.2127 - val_mean_squared_error: 0.0222\n",
      "Epoch 12/100\n",
      "0s - loss: 0.2396 - mean_squared_error: 0.0435 - val_loss: 0.2115 - val_mean_squared_error: 0.0222\n",
      "Epoch 13/100\n",
      "0s - loss: 0.2382 - mean_squared_error: 0.0436 - val_loss: 0.2098 - val_mean_squared_error: 0.0222\n",
      "Epoch 14/100\n",
      "0s - loss: 0.2368 - mean_squared_error: 0.0436 - val_loss: 0.2096 - val_mean_squared_error: 0.0226\n",
      "Epoch 15/100\n",
      "0s - loss: 0.2358 - mean_squared_error: 0.0438 - val_loss: 0.2083 - val_mean_squared_error: 0.0225\n",
      "Epoch 16/100\n",
      "0s - loss: 0.2347 - mean_squared_error: 0.0438 - val_loss: 0.2065 - val_mean_squared_error: 0.0223\n",
      "Epoch 17/100\n",
      "0s - loss: 0.2332 - mean_squared_error: 0.0435 - val_loss: 0.2064 - val_mean_squared_error: 0.0223\n",
      "Epoch 18/100\n",
      "0s - loss: 0.2328 - mean_squared_error: 0.0433 - val_loss: 0.2052 - val_mean_squared_error: 0.0221\n",
      "Epoch 19/100\n",
      "0s - loss: 0.2313 - mean_squared_error: 0.0430 - val_loss: 0.2045 - val_mean_squared_error: 0.0220\n",
      "Epoch 20/100\n",
      "0s - loss: 0.2307 - mean_squared_error: 0.0427 - val_loss: 0.2036 - val_mean_squared_error: 0.0218\n",
      "Epoch 21/100\n",
      "0s - loss: 0.2297 - mean_squared_error: 0.0422 - val_loss: 0.2027 - val_mean_squared_error: 0.0214\n",
      "Epoch 22/100\n",
      "0s - loss: 0.2282 - mean_squared_error: 0.0415 - val_loss: 0.2034 - val_mean_squared_error: 0.0216\n",
      "Epoch 23/100\n",
      "0s - loss: 0.2280 - mean_squared_error: 0.0412 - val_loss: 0.2011 - val_mean_squared_error: 0.0209\n",
      "Epoch 24/100\n",
      "0s - loss: 0.2263 - mean_squared_error: 0.0403 - val_loss: 0.2018 - val_mean_squared_error: 0.0210\n",
      "Epoch 25/100\n",
      "0s - loss: 0.2255 - mean_squared_error: 0.0396 - val_loss: 0.2012 - val_mean_squared_error: 0.0206\n",
      "Epoch 26/100\n",
      "0s - loss: 0.2243 - mean_squared_error: 0.0388 - val_loss: 0.2005 - val_mean_squared_error: 0.0202\n",
      "Epoch 27/100\n",
      "0s - loss: 0.2232 - mean_squared_error: 0.0379 - val_loss: 0.1994 - val_mean_squared_error: 0.0196\n",
      "Epoch 28/100\n",
      "0s - loss: 0.2219 - mean_squared_error: 0.0368 - val_loss: 0.1984 - val_mean_squared_error: 0.0191\n",
      "Epoch 29/100\n",
      "0s - loss: 0.2199 - mean_squared_error: 0.0356 - val_loss: 0.1996 - val_mean_squared_error: 0.0191\n",
      "Epoch 30/100\n",
      "0s - loss: 0.2193 - mean_squared_error: 0.0346 - val_loss: 0.1976 - val_mean_squared_error: 0.0182\n",
      "Epoch 31/100\n",
      "0s - loss: 0.2167 - mean_squared_error: 0.0330 - val_loss: 0.1989 - val_mean_squared_error: 0.0180\n",
      "Epoch 32/100\n",
      "0s - loss: 0.2160 - mean_squared_error: 0.0317 - val_loss: 0.1977 - val_mean_squared_error: 0.0174\n",
      "Epoch 33/100\n",
      "0s - loss: 0.2132 - mean_squared_error: 0.0301 - val_loss: 0.1979 - val_mean_squared_error: 0.0169\n",
      "Epoch 34/100\n",
      "0s - loss: 0.2115 - mean_squared_error: 0.0284 - val_loss: 0.1979 - val_mean_squared_error: 0.0164\n",
      "Epoch 35/100\n",
      "0s - loss: 0.2091 - mean_squared_error: 0.0267 - val_loss: 0.1976 - val_mean_squared_error: 0.0157\n",
      "Epoch 36/100\n",
      "0s - loss: 0.2069 - mean_squared_error: 0.0249 - val_loss: 0.1970 - val_mean_squared_error: 0.0150\n",
      "Epoch 37/100\n",
      "0s - loss: 0.2041 - mean_squared_error: 0.0231 - val_loss: 0.1953 - val_mean_squared_error: 0.0140\n",
      "Epoch 38/100\n",
      "0s - loss: 0.2001 - mean_squared_error: 0.0208 - val_loss: 0.1984 - val_mean_squared_error: 0.0142\n",
      "Epoch 39/100\n",
      "0s - loss: 0.1988 - mean_squared_error: 0.0194 - val_loss: 0.1926 - val_mean_squared_error: 0.0122\n",
      "Epoch 40/100\n",
      "0s - loss: 0.1927 - mean_squared_error: 0.0168 - val_loss: 0.1976 - val_mean_squared_error: 0.0127\n",
      "Epoch 41/100\n",
      "0s - loss: 0.1911 - mean_squared_error: 0.0153 - val_loss: 0.1923 - val_mean_squared_error: 0.0109\n",
      "Epoch 42/100\n",
      "0s - loss: 0.1842 - mean_squared_error: 0.0128 - val_loss: 0.1984 - val_mean_squared_error: 0.0115\n",
      "Epoch 43/100\n",
      "0s - loss: 0.1822 - mean_squared_error: 0.0115 - val_loss: 0.1930 - val_mean_squared_error: 0.0098\n",
      "Epoch 44/100\n",
      "0s - loss: 0.1748 - mean_squared_error: 0.0093 - val_loss: 0.1944 - val_mean_squared_error: 0.0095\n",
      "Epoch 45/100\n",
      "0s - loss: 0.1707 - mean_squared_error: 0.0080 - val_loss: 0.1917 - val_mean_squared_error: 0.0085\n",
      "Epoch 46/100\n",
      "0s - loss: 0.1662 - mean_squared_error: 0.0069 - val_loss: 0.1816 - val_mean_squared_error: 0.0066\n",
      "Epoch 47/100\n",
      "0s - loss: 0.1598 - mean_squared_error: 0.0055 - val_loss: 0.1789 - val_mean_squared_error: 0.0062\n",
      "Epoch 48/100\n",
      "0s - loss: 0.1565 - mean_squared_error: 0.0050 - val_loss: 0.1769 - val_mean_squared_error: 0.0061\n",
      "Epoch 49/100\n",
      "0s - loss: 0.1537 - mean_squared_error: 0.0047 - val_loss: 0.1727 - val_mean_squared_error: 0.0056\n",
      "Epoch 50/100\n",
      "0s - loss: 0.1501 - mean_squared_error: 0.0043 - val_loss: 0.1730 - val_mean_squared_error: 0.0058\n",
      "Epoch 51/100\n",
      "0s - loss: 0.1480 - mean_squared_error: 0.0041 - val_loss: 0.1697 - val_mean_squared_error: 0.0054\n",
      "Epoch 52/100\n",
      "0s - loss: 0.1452 - mean_squared_error: 0.0038 - val_loss: 0.1684 - val_mean_squared_error: 0.0054\n",
      "Epoch 53/100\n",
      "0s - loss: 0.1431 - mean_squared_error: 0.0036 - val_loss: 0.1654 - val_mean_squared_error: 0.0050\n",
      "Epoch 54/100\n",
      "0s - loss: 0.1404 - mean_squared_error: 0.0034 - val_loss: 0.1645 - val_mean_squared_error: 0.0050\n",
      "Epoch 55/100\n",
      "0s - loss: 0.1386 - mean_squared_error: 0.0032 - val_loss: 0.1602 - val_mean_squared_error: 0.0046\n",
      "Epoch 56/100\n",
      "0s - loss: 0.1358 - mean_squared_error: 0.0029 - val_loss: 0.1604 - val_mean_squared_error: 0.0048\n",
      "Epoch 57/100\n",
      "0s - loss: 0.1341 - mean_squared_error: 0.0028 - val_loss: 0.1600 - val_mean_squared_error: 0.0048\n",
      "Epoch 58/100\n",
      "0s - loss: 0.1326 - mean_squared_error: 0.0028 - val_loss: 0.1557 - val_mean_squared_error: 0.0043\n",
      "Epoch 59/100\n",
      "0s - loss: 0.1301 - mean_squared_error: 0.0025 - val_loss: 0.1546 - val_mean_squared_error: 0.0043\n",
      "Epoch 60/100\n",
      "0s - loss: 0.1283 - mean_squared_error: 0.0024 - val_loss: 0.1513 - val_mean_squared_error: 0.0040\n",
      "Epoch 61/100\n",
      "0s - loss: 0.1260 - mean_squared_error: 0.0022 - val_loss: 0.1500 - val_mean_squared_error: 0.0039\n",
      "Epoch 62/100\n",
      "0s - loss: 0.1243 - mean_squared_error: 0.0022 - val_loss: 0.1476 - val_mean_squared_error: 0.0037\n",
      "Epoch 63/100\n",
      "0s - loss: 0.1224 - mean_squared_error: 0.0020 - val_loss: 0.1458 - val_mean_squared_error: 0.0037\n",
      "Epoch 64/100\n",
      "0s - loss: 0.1207 - mean_squared_error: 0.0019 - val_loss: 0.1432 - val_mean_squared_error: 0.0034\n",
      "Epoch 65/100\n",
      "0s - loss: 0.1188 - mean_squared_error: 0.0018 - val_loss: 0.1416 - val_mean_squared_error: 0.0033\n",
      "Epoch 66/100\n",
      "0s - loss: 0.1170 - mean_squared_error: 0.0017 - val_loss: 0.1390 - val_mean_squared_error: 0.0031\n",
      "Epoch 67/100\n",
      "0s - loss: 0.1154 - mean_squared_error: 0.0016 - val_loss: 0.1353 - val_mean_squared_error: 0.0028\n",
      "Epoch 68/100\n",
      "0s - loss: 0.1134 - mean_squared_error: 0.0015 - val_loss: 0.1352 - val_mean_squared_error: 0.0029\n",
      "Epoch 69/100\n",
      "0s - loss: 0.1121 - mean_squared_error: 0.0014 - val_loss: 0.1313 - val_mean_squared_error: 0.0025\n",
      "Epoch 70/100\n",
      "0s - loss: 0.1102 - mean_squared_error: 0.0013 - val_loss: 0.1292 - val_mean_squared_error: 0.0024\n",
      "Epoch 71/100\n",
      "0s - loss: 0.1088 - mean_squared_error: 0.0012 - val_loss: 0.1268 - val_mean_squared_error: 0.0023\n",
      "Epoch 72/100\n",
      "0s - loss: 0.1072 - mean_squared_error: 0.0011 - val_loss: 0.1259 - val_mean_squared_error: 0.0022\n",
      "Epoch 73/100\n",
      "0s - loss: 0.1058 - mean_squared_error: 0.0011 - val_loss: 0.1248 - val_mean_squared_error: 0.0022\n",
      "Epoch 74/100\n",
      "0s - loss: 0.1044 - mean_squared_error: 0.0010 - val_loss: 0.1240 - val_mean_squared_error: 0.0022\n",
      "Epoch 75/100\n"
     ]
    },
    {
     "name": "stdout",
     "output_type": "stream",
     "text": [
      "0s - loss: 0.1031 - mean_squared_error: 9.9515e-04 - val_loss: 0.1213 - val_mean_squared_error: 0.0020\n",
      "Epoch 76/100\n",
      "0s - loss: 0.1017 - mean_squared_error: 9.2050e-04 - val_loss: 0.1187 - val_mean_squared_error: 0.0018\n",
      "Epoch 77/100\n",
      "0s - loss: 0.1004 - mean_squared_error: 8.4537e-04 - val_loss: 0.1169 - val_mean_squared_error: 0.0017\n",
      "Epoch 78/100\n",
      "0s - loss: 0.0991 - mean_squared_error: 7.8950e-04 - val_loss: 0.1159 - val_mean_squared_error: 0.0017\n",
      "Epoch 79/100\n",
      "0s - loss: 0.0980 - mean_squared_error: 7.4930e-04 - val_loss: 0.1155 - val_mean_squared_error: 0.0017\n",
      "Epoch 80/100\n",
      "0s - loss: 0.0970 - mean_squared_error: 7.2042e-04 - val_loss: 0.1112 - val_mean_squared_error: 0.0014\n",
      "Epoch 81/100\n",
      "0s - loss: 0.0955 - mean_squared_error: 6.4298e-04 - val_loss: 0.1102 - val_mean_squared_error: 0.0014\n",
      "Epoch 82/100\n",
      "0s - loss: 0.0945 - mean_squared_error: 6.0825e-04 - val_loss: 0.1088 - val_mean_squared_error: 0.0013\n",
      "Epoch 83/100\n",
      "0s - loss: 0.0934 - mean_squared_error: 5.7410e-04 - val_loss: 0.1069 - val_mean_squared_error: 0.0012\n",
      "Epoch 84/100\n",
      "0s - loss: 0.0924 - mean_squared_error: 5.3659e-04 - val_loss: 0.1054 - val_mean_squared_error: 0.0011\n",
      "Epoch 85/100\n",
      "0s - loss: 0.0914 - mean_squared_error: 5.0754e-04 - val_loss: 0.1040 - val_mean_squared_error: 0.0011\n",
      "Epoch 86/100\n",
      "0s - loss: 0.0903 - mean_squared_error: 4.7694e-04 - val_loss: 0.1021 - val_mean_squared_error: 9.7101e-04\n",
      "Epoch 87/100\n",
      "0s - loss: 0.0893 - mean_squared_error: 4.4559e-04 - val_loss: 0.1013 - val_mean_squared_error: 9.5780e-04\n",
      "Epoch 88/100\n",
      "0s - loss: 0.0886 - mean_squared_error: 4.2889e-04 - val_loss: 0.0996 - val_mean_squared_error: 8.7683e-04\n",
      "Epoch 89/100\n",
      "0s - loss: 0.0876 - mean_squared_error: 4.0071e-04 - val_loss: 0.0981 - val_mean_squared_error: 8.2257e-04\n",
      "Epoch 90/100\n",
      "0s - loss: 0.0867 - mean_squared_error: 3.7970e-04 - val_loss: 0.0957 - val_mean_squared_error: 7.1324e-04\n",
      "Epoch 91/100\n",
      "0s - loss: 0.0856 - mean_squared_error: 3.5048e-04 - val_loss: 0.0944 - val_mean_squared_error: 6.7136e-04\n",
      "Epoch 92/100\n",
      "0s - loss: 0.0847 - mean_squared_error: 3.2845e-04 - val_loss: 0.0919 - val_mean_squared_error: 5.6003e-04\n",
      "Epoch 93/100\n",
      "0s - loss: 0.0840 - mean_squared_error: 3.0855e-04 - val_loss: 0.0888 - val_mean_squared_error: 4.3171e-04\n",
      "Epoch 94/100\n",
      "0s - loss: 0.0829 - mean_squared_error: 2.7820e-04 - val_loss: 0.0846 - val_mean_squared_error: 2.9274e-04\n",
      "Epoch 95/100\n",
      "0s - loss: 0.0813 - mean_squared_error: 2.4284e-04 - val_loss: 0.0832 - val_mean_squared_error: 2.6277e-04\n",
      "Epoch 96/100\n",
      "0s - loss: 0.0802 - mean_squared_error: 2.2593e-04 - val_loss: 0.0796 - val_mean_squared_error: 1.7324e-04\n",
      "Epoch 97/100\n",
      "0s - loss: 0.0790 - mean_squared_error: 2.0166e-04 - val_loss: 0.0772 - val_mean_squared_error: 1.2510e-04\n",
      "Epoch 98/100\n",
      "0s - loss: 0.0778 - mean_squared_error: 1.8381e-04 - val_loss: 0.0748 - val_mean_squared_error: 8.6850e-05\n",
      "Epoch 99/100\n",
      "0s - loss: 0.0765 - mean_squared_error: 1.6946e-04 - val_loss: 0.0742 - val_mean_squared_error: 9.0063e-05\n",
      "Epoch 100/100\n",
      "0s - loss: 0.0760 - mean_squared_error: 1.7474e-04 - val_loss: 0.0765 - val_mean_squared_error: 1.4726e-04\n"
     ]
    },
    {
     "data": {
      "image/png": "[encoded data removed]",
      "text/plain": [
       "<matplotlib.figure.Figure at 0x2b7515adfd0>"
      ]
     },
     "metadata": {},
     "output_type": "display_data"
    }
   ],
   "source": [
    "history = model.fit(train_X, train_y, epochs=100, batch_size=100, validation_data=(test_X, test_y), verbose=2, shuffle=False)\n",
    "pyplot.plot(history.history['loss'], label='train')\n",
    "pyplot.plot(history.history['val_loss'], label='test')\n",
    "#pyplot.plot(history.history['mean_squared_error'],label='mse')\n",
    "pyplot.legend()\n",
    "pyplot.show()"
   ]
  },
  {
   "cell_type": "code",
   "execution_count": 13,
   "metadata": {},
   "outputs": [
    {
     "name": "stdout",
     "output_type": "stream",
     "text": [
      "Test RMSE: 0.300\n"
     ]
    }
   ],
   "source": [
    "yhat = model.predict(test_X)\n",
    "test_X = test_X.reshape((test_X.shape[0], test_X.shape[2]))\n",
    "# invert scaling for forecast\n",
    "inv_yhat = concatenate((yhat, test_X[:, 1:]), axis=1)\n",
    "inv_yhat = scaler.inverse_transform(inv_yhat)\n",
    "inv_yhat = inv_yhat[:,0]\n",
    "# invert scaling for actual\n",
    "test_y = test_y.reshape((len(test_y), 1))\n",
    "inv_y = concatenate((test_y, test_X[:, 1:]), axis=1)\n",
    "inv_y = scaler.inverse_transform(inv_y)\n",
    "inv_y = inv_y[:,0]\n",
    "# calculate RMSE\n",
    "rmse = sqrt(mean_squared_error(inv_y, inv_yhat))\n",
    "print('Test RMSE: %.3f' % rmse)"
   ]
  },
  {
   "cell_type": "code",
   "execution_count": 14,
   "metadata": {},
   "outputs": [],
   "source": [
    "inv_yhat = inv_yhat.reshape((277,1))\n",
    "inv_y = inv_y.reshape((277,1))"
   ]
  },
  {
   "cell_type": "code",
   "execution_count": 15,
   "metadata": {},
   "outputs": [],
   "source": [
    "inv_yhat = pd.DataFrame(inv_yhat)\n",
    "inv_y = pd.DataFrame(inv_y)"
   ]
  },
  {
   "cell_type": "code",
   "execution_count": 16,
   "metadata": {},
   "outputs": [
    {
     "data": {
      "text/plain": [
       "[<matplotlib.lines.Line2D at 0x2b77e4d6668>]"
      ]
     },
     "execution_count": 16,
     "metadata": {},
     "output_type": "execute_result"
    }
   ],
   "source": [
    "pyplot.plot(inv_yhat,label='predicted')\n",
    "pyplot.plot(inv_y,label='actual')"
   ]
  },
  {
   "cell_type": "code",
   "execution_count": 17,
   "metadata": {},
   "outputs": [
    {
     "data": {
      "image/png": "[encoded data removed]",
      "text/plain": [
       "<matplotlib.figure.Figure at 0x2b77e4d6f28>"
      ]
     },
     "metadata": {},
     "output_type": "display_data"
    }
   ],
   "source": [
    "pyplot.legend()\n",
    "pyplot.show()"
   ]
  },
  {
   "cell_type": "code",
   "execution_count": 18,
   "metadata": {},
   "outputs": [],
   "source": [
    "errr = inv_y-inv_yhat"
   ]
  },
  {
   "cell_type": "code",
   "execution_count": 19,
   "metadata": {},
   "outputs": [
    {
     "data": {
      "image/png": "[encoded data removed]",
      "text/plain": [
       "<matplotlib.figure.Figure at 0x2b77e4f37f0>"
      ]
     },
     "metadata": {},
     "output_type": "display_data"
    }
   ],
   "source": [
    "errr.plot()\n",
    "pyplot.show()"
   ]
  },
  {
   "cell_type": "code",
   "execution_count": 20,
   "metadata": {},
   "outputs": [
    {
     "data": {
      "text/html": [
       "<div>\n",
       "<table border=\"1\" class=\"dataframe\">\n",
       "  <thead>\n",
       "    <tr style=\"text-align: right;\">\n",
       "      <th></th>\n",
       "      <th>0</th>\n",
       "    </tr>\n",
       "  </thead>\n",
       "  <tbody>\n",
       "    <tr>\n",
       "      <th>count</th>\n",
       "      <td>277.000000</td>\n",
       "    </tr>\n",
       "    <tr>\n",
       "      <th>mean</th>\n",
       "      <td>0.248474</td>\n",
       "    </tr>\n",
       "    <tr>\n",
       "      <th>std</th>\n",
       "      <td>0.168802</td>\n",
       "    </tr>\n",
       "    <tr>\n",
       "      <th>min</th>\n",
       "      <td>-0.526268</td>\n",
       "    </tr>\n",
       "    <tr>\n",
       "      <th>25%</th>\n",
       "      <td>0.158966</td>\n",
       "    </tr>\n",
       "    <tr>\n",
       "      <th>50%</th>\n",
       "      <td>0.244110</td>\n",
       "    </tr>\n",
       "    <tr>\n",
       "      <th>75%</th>\n",
       "      <td>0.347267</td>\n",
       "    </tr>\n",
       "    <tr>\n",
       "      <th>max</th>\n",
       "      <td>0.692108</td>\n",
       "    </tr>\n",
       "  </tbody>\n",
       "</table>\n",
       "</div>"
      ],
      "text/plain": [
       "                0\n",
       "count  277.000000\n",
       "mean     0.248474\n",
       "std      0.168802\n",
       "min     -0.526268\n",
       "25%      0.158966\n",
       "50%      0.244110\n",
       "75%      0.347267\n",
       "max      0.692108"
      ]
     },
     "execution_count": 20,
     "metadata": {},
     "output_type": "execute_result"
    }
   ],
   "source": [
    "errr.describe()"
   ]
  },
  {
   "cell_type": "code",
   "execution_count": 21,
   "metadata": {},
   "outputs": [
    {
     "name": "stdout",
     "output_type": "stream",
     "text": [
      "_________________________________________________________________\n",
      "Layer (type)                 Output Shape              Param #   \n",
      "=================================================================\n",
      "lstm_1 (LSTM)                (None, 500)               1008000   \n",
      "_________________________________________________________________\n",
      "dense_1 (Dense)              (None, 1)                 501       \n",
      "=================================================================\n",
      "Total params: 1,008,501\n",
      "Trainable params: 1,008,501\n",
      "Non-trainable params: 0\n",
      "_________________________________________________________________\n"
     ]
    }
   ],
   "source": [
    "plot_model(model, to_file='model.png',show_shapes=True,show_layer_names=True)\n",
    "model.summary()"
   ]
  },
  {
   "cell_type": "code",
   "execution_count": 25,
   "metadata": {},
   "outputs": [],
   "source": []
  },
  {
   "cell_type": "code",
   "execution_count": null,
   "metadata": {},
   "outputs": [],
   "source": []
  }
 ],
 "metadata": {
  "anaconda-cloud": {},
  "kernelspec": {
   "display_name": "Python [conda root]",
   "language": "python",
   "name": "conda-root-py"
  },
  "language_info": {
   "codemirror_mode": {
    "name": "ipython",
    "version": 3
   },
   "file_extension": ".py",
   "mimetype": "text/x-python",
   "name": "python",
   "nbconvert_exporter": "python",
   "pygments_lexer": "ipython3",
   "version": "3.5.2"
  },
  "nbpresent": {
   "slides": {
    "2f6752be-0ed8-440b-b3f4-97a45f225158": {
     "id": "2f6752be-0ed8-440b-b3f4-97a45f225158",
     "prev": null,
     "regions": {
      "f2051422-9c14-45a1-995a-512084e6a5b5": {
       "attrs": {
        "height": 1,
        "width": 1,
        "x": 0,
        "y": 0
       },
       "content": {
        "cell": "01ac3bbb-1083-4fd8-b71a-9ceb84cd8a04",
        "part": "whole"
       },
       "id": "f2051422-9c14-45a1-995a-512084e6a5b5"
      }
     }
    }
   },
   "themes": {
    "default": "5126d5a7-8267-498f-909d-b3c16b14aedf",
    "theme": {
     "5126d5a7-8267-498f-909d-b3c16b14aedf": {
      "backgrounds": {
       "dc7afa04-bf90-40b1-82a5-726e3cff5267": {
        "background-color": "31af15d2-7e15-44c5-ab5e-e04b16a89eff",
        "id": "dc7afa04-bf90-40b1-82a5-726e3cff5267"
       }
      },
      "id": "5126d5a7-8267-498f-909d-b3c16b14aedf",
      "palette": {
       "19cc588f-0593-49c9-9f4b-e4d7cc113b1c": {
        "id": "19cc588f-0593-49c9-9f4b-e4d7cc113b1c",
        "rgb": [
         252,
         252,
         252
        ]
       },
       "31af15d2-7e15-44c5-ab5e-e04b16a89eff": {
        "id": "31af15d2-7e15-44c5-ab5e-e04b16a89eff",
        "rgb": [
         68,
         68,
         68
        ]
       },
       "50f92c45-a630-455b-aec3-788680ec7410": {
        "id": "50f92c45-a630-455b-aec3-788680ec7410",
        "rgb": [
         197,
         226,
         245
        ]
       },
       "c5cc3653-2ee1-402a-aba2-7caae1da4f6c": {
        "id": "c5cc3653-2ee1-402a-aba2-7caae1da4f6c",
        "rgb": [
         43,
         126,
         184
        ]
       },
       "efa7f048-9acb-414c-8b04-a26811511a21": {
        "id": "efa7f048-9acb-414c-8b04-a26811511a21",
        "rgb": [
         25.118061674008803,
         73.60176211453744,
         107.4819383259912
        ]
       }
      },
      "rules": {
       "a": {
        "color": "19cc588f-0593-49c9-9f4b-e4d7cc113b1c"
       },
       "blockquote": {
        "color": "50f92c45-a630-455b-aec3-788680ec7410",
        "font-size": 3
       },
       "code": {
        "font-family": "Anonymous Pro"
       },
       "h1": {
        "color": "19cc588f-0593-49c9-9f4b-e4d7cc113b1c",
        "font-family": "Merriweather",
        "font-size": 8
       },
       "h2": {
        "color": "19cc588f-0593-49c9-9f4b-e4d7cc113b1c",
        "font-family": "Merriweather",
        "font-size": 6
       },
       "h3": {
        "color": "50f92c45-a630-455b-aec3-788680ec7410",
        "font-family": "Lato",
        "font-size": 5.5
       },
       "h4": {
        "color": "c5cc3653-2ee1-402a-aba2-7caae1da4f6c",
        "font-family": "Lato",
        "font-size": 5
       },
       "h5": {
        "font-family": "Lato"
       },
       "h6": {
        "font-family": "Lato"
       },
       "h7": {
        "font-family": "Lato"
       },
       "li": {
        "color": "50f92c45-a630-455b-aec3-788680ec7410",
        "font-size": 3.25
       },
       "pre": {
        "font-family": "Anonymous Pro",
        "font-size": 4
       }
      },
      "text-base": {
       "color": "19cc588f-0593-49c9-9f4b-e4d7cc113b1c",
       "font-family": "Lato",
       "font-size": 4
      }
     }
    }
   }
  },
  "varInspector": {
   "cols": {
    "lenName": 16,
    "lenType": 16,
    "lenVar": 40
   },
   "kernels_config": {
    "python": {
     "delete_cmd_postfix": "",
     "delete_cmd_prefix": "del ",
     "library": "var_list.py",
     "varRefreshCmd": "print(var_dic_list())"
    },
    "r": {
     "delete_cmd_postfix": ") ",
     "delete_cmd_prefix": "rm(",
     "library": "var_list.r",
     "varRefreshCmd": "cat(var_dic_list()) "
    }
   },
   "types_to_exclude": [
    "module",
    "function",
    "builtin_function_or_method",
    "instance",
    "_Feature"
   ],
   "window_display": false
  }
 },
 "nbformat": 4,
 "nbformat_minor": 1
}
